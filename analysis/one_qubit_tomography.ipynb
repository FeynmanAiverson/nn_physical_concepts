{
 "cells": [
  {
   "cell_type": "code",
   "execution_count": null,
   "metadata": {},
   "outputs": [],
   "source": [
    "import numpy as np\n",
    "import matplotlib.pyplot as plt\n",
    "from scinet import *\n",
    "import scinet.ed_quantum as edq"
   ]
  },
  {
   "cell_type": "markdown",
   "metadata": {},
   "source": [
    "## Load pre-trained models\n",
    "\n",
    "### Parameters\n",
    "- `latent_size:` between 0 and 5\n",
    "- `input_size: 10`\n",
    "- `input2_size: 10`\n",
    "- `output_size: 1`\n",
    "- other parameters: default values\n",
    "### Data\n",
    "Both the qubit and the projection axis are specified by 10 random projective measurements.\n",
    "- training data: 95000 samples\n",
    "- validation data: 5000 samples\n",
    "\n",
    "### Training\n",
    "For each latent size, three training are performed and the one with the lowest error is chosen. Each training run is performed in two steps:\n",
    "    1. `epoch_num: 250`, `batch_size: 512`, `learning_rate: 1e-3`, `beta: 1e-4`\n",
    "    2. `epoch_num: 50`, `batch_size: 512`, `learning_rate: 1e-4`, `beta: 1e-4`\n",
    "    \n",
    "### Naming scheme\n",
    "The models are named 'one_qubit_label_s_i', where label is 'comp' (for tomographically complete) or 'incomp' (for tomographically incomplete), 's' is the number of latent neurons and 'i' is the run (0 to 2). "
   ]
  },
  {
   "cell_type": "code",
   "execution_count": null,
   "metadata": {
    "scrolled": true
   },
   "outputs": [],
   "source": [
    "latent_neurons = np.array([0, 1, 2, 3, 4, 5])\n",
    "err = []\n",
    "for label in ['comp', 'incomp']:\n",
    "    td, vd, ts, vs, projectors = dl.load(5, 'one_qubit_{}'.format(label))\n",
    "    err_label = []\n",
    "    for s in latent_neurons:\n",
    "        err_s = []\n",
    "        for i in range(3):\n",
    "            name = 'one_qubit_{}_{}_{}'.format(label, s, i)\n",
    "            net = nn.Network.from_saved(name)\n",
    "            print np.sqrt(net.run(vd, net.recon_loss))\n",
    "            err_s.append(np.sqrt(net.run(vd, net.recon_loss)))\n",
    "        err_label.append(min(err_s))\n",
    "    err.append(err_label)"
   ]
  },
  {
   "cell_type": "code",
   "execution_count": null,
   "metadata": {},
   "outputs": [],
   "source": [
    "blue_color='#000cff'\n",
    "orange_color='#ff7700'\n",
    "fig = plt.figure(figsize=(3.4, 2.1))\n",
    "ax = fig.add_subplot(111)\n",
    "width = 0.32\n",
    "ax.bar(latent_neurons - width/2., err[0], width=width, label='Tom. complete', color=blue_color)\n",
    "ax.bar(latent_neurons + width/2., err[1], width=width, label='Tom. incomplete', color=orange_color)\n",
    "ax.legend()\n",
    "ax.set_xticks(latent_neurons)\n",
    "ax.set_xlabel('Number of latent neurons')\n",
    "ax.set_ylabel('Error of predictions')"
   ]
  },
  {
   "cell_type": "code",
   "execution_count": null,
   "metadata": {},
   "outputs": [],
   "source": []
  }
 ],
 "metadata": {
  "kernelspec": {
   "display_name": "Python 2",
   "language": "python",
   "name": "python2"
  },
  "language_info": {
   "codemirror_mode": {
    "name": "ipython",
    "version": 2
   },
   "file_extension": ".py",
   "mimetype": "text/x-python",
   "name": "python",
   "nbconvert_exporter": "python",
   "pygments_lexer": "ipython2",
   "version": "2.7.14"
  }
 },
 "nbformat": 4,
 "nbformat_minor": 2
}
